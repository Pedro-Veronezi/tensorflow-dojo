{
 "cells": [
  {
   "cell_type": "markdown",
   "metadata": {},
   "source": [
    "https://www.tensorflow.org/tutorials/keras/basic_text_classification"
   ]
  },
  {
   "cell_type": "code",
   "execution_count": 28,
   "metadata": {},
   "outputs": [
    {
     "name": "stdout",
     "output_type": "stream",
     "text": [
      "1.12.0\n"
     ]
    }
   ],
   "source": [
    "import tensorflow as tf\n",
    "from tensorflow import keras\n",
    "\n",
    "import numpy as np\n",
    "\n",
    "print(tf.__version__)"
   ]
  },
  {
   "cell_type": "markdown",
   "metadata": {},
   "source": [
    "The argument num_words=10000 keeps the top 10000 most used words"
   ]
  },
  {
   "cell_type": "code",
   "execution_count": 3,
   "metadata": {},
   "outputs": [],
   "source": [
    "imdb = keras.datasets.imdb\n",
    "\n",
    "(train_data, train_labels), (test_data, test_labels) = imdb.load_data(num_words=10000)"
   ]
  },
  {
   "cell_type": "code",
   "execution_count": 4,
   "metadata": {},
   "outputs": [
    {
     "name": "stdout",
     "output_type": "stream",
     "text": [
      "training entries: 25000 labels: 25000\n"
     ]
    }
   ],
   "source": [
    "print(\"training entries: {} labels: {}\".format(len(train_data), len(train_labels)))"
   ]
  },
  {
   "cell_type": "markdown",
   "metadata": {},
   "source": [
    "Index os the 10000 reference words"
   ]
  },
  {
   "cell_type": "code",
   "execution_count": 6,
   "metadata": {},
   "outputs": [
    {
     "name": "stdout",
     "output_type": "stream",
     "text": [
      "[1, 14, 22, 16, 43, 530, 973, 1622, 1385, 65, 458, 4468, 66, 3941, 4, 173, 36, 256, 5, 25, 100, 43, 838, 112, 50, 670, 2, 9, 35, 480, 284, 5, 150, 4, 172, 112, 167, 2, 336, 385, 39, 4, 172, 4536, 1111, 17, 546, 38, 13, 447, 4, 192, 50, 16, 6, 147, 2025, 19, 14, 22, 4, 1920, 4613, 469, 4, 22, 71, 87, 12, 16, 43, 530, 38, 76, 15, 13, 1247, 4, 22, 17, 515, 17, 12, 16, 626, 18, 2, 5, 62, 386, 12, 8, 316, 8, 106, 5, 4, 2223, 5244, 16, 480, 66, 3785, 33, 4, 130, 12, 16, 38, 619, 5, 25, 124, 51, 36, 135, 48, 25, 1415, 33, 6, 22, 12, 215, 28, 77, 52, 5, 14, 407, 16, 82, 2, 8, 4, 107, 117, 5952, 15, 256, 4, 2, 7, 3766, 5, 723, 36, 71, 43, 530, 476, 26, 400, 317, 46, 7, 4, 2, 1029, 13, 104, 88, 4, 381, 15, 297, 98, 32, 2071, 56, 26, 141, 6, 194, 7486, 18, 4, 226, 22, 21, 134, 476, 26, 480, 5, 144, 30, 5535, 18, 51, 36, 28, 224, 92, 25, 104, 4, 226, 65, 16, 38, 1334, 88, 12, 16, 283, 5, 16, 4472, 113, 103, 32, 15, 16, 5345, 19, 178, 32]\n"
     ]
    }
   ],
   "source": [
    "print(train_data[0])"
   ]
  },
  {
   "cell_type": "code",
   "execution_count": 10,
   "metadata": {},
   "outputs": [
    {
     "data": {
      "text/plain": [
       "(218, 189)"
      ]
     },
     "execution_count": 10,
     "metadata": {},
     "output_type": "execute_result"
    }
   ],
   "source": [
    "len(train_data[0]), len(train_data[1])"
   ]
  },
  {
   "cell_type": "raw",
   "metadata": {},
   "source": [
    "Function to convert Integer back to text"
   ]
  },
  {
   "cell_type": "code",
   "execution_count": 8,
   "metadata": {},
   "outputs": [],
   "source": [
    "word_index = imdb.get_word_index()\n",
    "\n",
    "word_index = {k:(v+3) for k,v in word_index.items()}\n",
    "word_index[\"<PAD>\"] = 0\n",
    "word_index[\"<START>\"] = 1\n",
    "word_index[\"<UNK>\"] = 2\n",
    "word_index[\"<UNUSED>\"] = 3\n",
    "\n",
    "reverse_word_index = dict([(value,key) for (key,value) in word_index.items()])\n",
    "\n",
    "\n",
    "def decode_review(text):\n",
    "    return ' '.join([reverse_word_index.get(i, '?') for i in text])"
   ]
  },
  {
   "cell_type": "code",
   "execution_count": 11,
   "metadata": {},
   "outputs": [
    {
     "data": {
      "text/plain": [
       "\"<START> this film was just brilliant casting location scenery story direction everyone's really suited the part they played and you could just imagine being there robert <UNK> is an amazing actor and now the same being director <UNK> father came from the same scottish island as myself so i loved the fact there was a real connection with this film the witty remarks throughout the film were great it was just brilliant so much that i bought the film as soon as it was released for <UNK> and would recommend it to everyone to watch and the fly fishing was amazing really cried at the end it was so sad and you know what they say if you cry at a film it must have been good and this definitely was also <UNK> to the two little boy's that played the <UNK> of norman and paul they were just brilliant children are often left out of the <UNK> list i think because the stars that play them all grown up are such a big profile for the whole film but these children are amazing and should be praised for what they have done don't you think the whole story was so lovely because it was true and was someone's life after all that was shared with us all\""
      ]
     },
     "execution_count": 11,
     "metadata": {},
     "output_type": "execute_result"
    }
   ],
   "source": [
    "decode_review(train_data[0])"
   ]
  },
  {
   "cell_type": "markdown",
   "metadata": {},
   "source": [
    "Make all the sentences 256 char adding <PAD> to complement."
   ]
  },
  {
   "cell_type": "code",
   "execution_count": 12,
   "metadata": {},
   "outputs": [],
   "source": [
    "train_data  = keras.preprocessing.sequence.pad_sequences(train_data, \n",
    "                                                         value=word_index[\"<PAD>\"], \n",
    "                                                         padding='post', \n",
    "                                                         maxlen=256)\n",
    "test_data  = keras.preprocessing.sequence.pad_sequences(test_data, \n",
    "                                                         value=word_index[\"<PAD>\"], \n",
    "                                                         padding='post', \n",
    "                                                         maxlen=256)"
   ]
  },
  {
   "cell_type": "code",
   "execution_count": 13,
   "metadata": {},
   "outputs": [
    {
     "data": {
      "text/plain": [
       "(256, 256)"
      ]
     },
     "execution_count": 13,
     "metadata": {},
     "output_type": "execute_result"
    }
   ],
   "source": [
    "len(train_data[0]), len(train_data[1])"
   ]
  },
  {
   "cell_type": "markdown",
   "metadata": {},
   "source": [
    "Creating a model."
   ]
  },
  {
   "cell_type": "code",
   "execution_count": 14,
   "metadata": {},
   "outputs": [
    {
     "name": "stdout",
     "output_type": "stream",
     "text": [
      "_________________________________________________________________\n",
      "Layer (type)                 Output Shape              Param #   \n",
      "=================================================================\n",
      "embedding (Embedding)        (None, None, 16)          160000    \n",
      "_________________________________________________________________\n",
      "global_average_pooling1d (Gl (None, 16)                0         \n",
      "_________________________________________________________________\n",
      "dense (Dense)                (None, 16)                272       \n",
      "_________________________________________________________________\n",
      "dense_1 (Dense)              (None, 1)                 17        \n",
      "=================================================================\n",
      "Total params: 160,289\n",
      "Trainable params: 160,289\n",
      "Non-trainable params: 0\n",
      "_________________________________________________________________\n"
     ]
    }
   ],
   "source": [
    "vocab_size = 10000\n",
    "model = keras.Sequential()\n",
    "model.add(keras.layers.Embedding(vocab_size, 16))\n",
    "model.add(keras.layers.GlobalAveragePooling1D())\n",
    "model.add(keras.layers.Dense(16, activation=tf.nn.relu))\n",
    "model.add(keras.layers.Dense(1, activation=tf.nn.sigmoid))\n",
    "\n",
    "model.summary()\n"
   ]
  },
  {
   "cell_type": "code",
   "execution_count": 15,
   "metadata": {},
   "outputs": [],
   "source": [
    "model.compile(optimizer=tf.train.AdamOptimizer(),\n",
    "             loss='binary_crossentropy',\n",
    "             metrics=['accuracy'])"
   ]
  },
  {
   "cell_type": "code",
   "execution_count": 16,
   "metadata": {},
   "outputs": [],
   "source": [
    "x_val = train_data[:10000]\n",
    "partial_x_train = train_data[10000:]\n",
    "\n",
    "y_val = train_labels[:10000]\n",
    "partial_y_train = train_labels[10000:]"
   ]
  },
  {
   "cell_type": "markdown",
   "metadata": {},
   "source": [
    "Added CallBack for TensorBoard"
   ]
  },
  {
   "cell_type": "code",
   "execution_count": 29,
   "metadata": {},
   "outputs": [
    {
     "name": "stdout",
     "output_type": "stream",
     "text": [
      "Train on 15000 samples, validate on 10000 samples\n",
      "Epoch 1/40\n",
      "15000/15000 [==============================] - 1s 75us/step - loss: 0.0966 - acc: 0.9740 - val_loss: 0.3069 - val_acc: 0.8849\n",
      "Epoch 2/40\n",
      "15000/15000 [==============================] - 1s 70us/step - loss: 0.0928 - acc: 0.9760 - val_loss: 0.3104 - val_acc: 0.8821\n",
      "Epoch 3/40\n",
      "15000/15000 [==============================] - 1s 69us/step - loss: 0.0894 - acc: 0.9778 - val_loss: 0.3131 - val_acc: 0.8822\n",
      "Epoch 4/40\n",
      "15000/15000 [==============================] - 1s 67us/step - loss: 0.0862 - acc: 0.9784 - val_loss: 0.3167 - val_acc: 0.8832\n",
      "Epoch 5/40\n",
      "15000/15000 [==============================] - 1s 68us/step - loss: 0.0832 - acc: 0.9792 - val_loss: 0.3198 - val_acc: 0.8820\n",
      "Epoch 6/40\n",
      "15000/15000 [==============================] - 1s 76us/step - loss: 0.0801 - acc: 0.9807 - val_loss: 0.3239 - val_acc: 0.8808\n",
      "Epoch 7/40\n",
      "15000/15000 [==============================] - 1s 75us/step - loss: 0.0777 - acc: 0.9815 - val_loss: 0.3274 - val_acc: 0.8807\n",
      "Epoch 8/40\n",
      "15000/15000 [==============================] - 1s 68us/step - loss: 0.0744 - acc: 0.9826 - val_loss: 0.3312 - val_acc: 0.8797\n",
      "Epoch 9/40\n",
      "15000/15000 [==============================] - 1s 71us/step - loss: 0.0716 - acc: 0.9836 - val_loss: 0.3351 - val_acc: 0.8798\n",
      "Epoch 10/40\n",
      "15000/15000 [==============================] - 1s 71us/step - loss: 0.0691 - acc: 0.9844 - val_loss: 0.3387 - val_acc: 0.8796\n",
      "Epoch 11/40\n",
      "15000/15000 [==============================] - 1s 64us/step - loss: 0.0665 - acc: 0.9853 - val_loss: 0.3433 - val_acc: 0.8789\n",
      "Epoch 12/40\n",
      "15000/15000 [==============================] - 1s 62us/step - loss: 0.0640 - acc: 0.9861 - val_loss: 0.3480 - val_acc: 0.8784\n",
      "Epoch 13/40\n",
      "15000/15000 [==============================] - 1s 63us/step - loss: 0.0617 - acc: 0.9873 - val_loss: 0.3521 - val_acc: 0.8786\n",
      "Epoch 14/40\n",
      "15000/15000 [==============================] - 1s 66us/step - loss: 0.0594 - acc: 0.9879 - val_loss: 0.3568 - val_acc: 0.8775\n",
      "Epoch 15/40\n",
      "15000/15000 [==============================] - 1s 69us/step - loss: 0.0571 - acc: 0.9884 - val_loss: 0.3615 - val_acc: 0.8774\n",
      "Epoch 16/40\n",
      "15000/15000 [==============================] - 1s 82us/step - loss: 0.0555 - acc: 0.9886 - val_loss: 0.3655 - val_acc: 0.8771\n",
      "Epoch 17/40\n",
      "15000/15000 [==============================] - 1s 70us/step - loss: 0.0532 - acc: 0.9897 - val_loss: 0.3709 - val_acc: 0.8768\n",
      "Epoch 18/40\n",
      "15000/15000 [==============================] - 1s 64us/step - loss: 0.0515 - acc: 0.9905 - val_loss: 0.3757 - val_acc: 0.8753\n",
      "Epoch 19/40\n",
      "15000/15000 [==============================] - 1s 64us/step - loss: 0.0492 - acc: 0.9910 - val_loss: 0.3804 - val_acc: 0.8749\n",
      "Epoch 20/40\n",
      "15000/15000 [==============================] - 1s 66us/step - loss: 0.0472 - acc: 0.9921 - val_loss: 0.3848 - val_acc: 0.8766\n",
      "Epoch 21/40\n",
      "15000/15000 [==============================] - 1s 64us/step - loss: 0.0459 - acc: 0.9916 - val_loss: 0.3902 - val_acc: 0.8747\n",
      "Epoch 22/40\n",
      "15000/15000 [==============================] - 1s 65us/step - loss: 0.0436 - acc: 0.9923 - val_loss: 0.3945 - val_acc: 0.8758\n",
      "Epoch 23/40\n",
      "15000/15000 [==============================] - 1s 64us/step - loss: 0.0420 - acc: 0.9931 - val_loss: 0.4003 - val_acc: 0.8746\n",
      "Epoch 24/40\n",
      "15000/15000 [==============================] - 1s 77us/step - loss: 0.0410 - acc: 0.9933 - val_loss: 0.4073 - val_acc: 0.8723\n",
      "Epoch 25/40\n",
      "15000/15000 [==============================] - 1s 77us/step - loss: 0.0390 - acc: 0.9941 - val_loss: 0.4100 - val_acc: 0.8744\n",
      "Epoch 26/40\n",
      "15000/15000 [==============================] - 1s 73us/step - loss: 0.0374 - acc: 0.9942 - val_loss: 0.4154 - val_acc: 0.8737\n",
      "Epoch 27/40\n",
      "15000/15000 [==============================] - 1s 75us/step - loss: 0.0362 - acc: 0.9945 - val_loss: 0.4212 - val_acc: 0.8735\n",
      "Epoch 28/40\n",
      "15000/15000 [==============================] - 1s 87us/step - loss: 0.0348 - acc: 0.9946 - val_loss: 0.4268 - val_acc: 0.8713\n",
      "Epoch 29/40\n",
      "15000/15000 [==============================] - 1s 77us/step - loss: 0.0333 - acc: 0.9957 - val_loss: 0.4318 - val_acc: 0.8713\n",
      "Epoch 30/40\n",
      "15000/15000 [==============================] - 1s 74us/step - loss: 0.0319 - acc: 0.9953 - val_loss: 0.4372 - val_acc: 0.8718\n",
      "Epoch 31/40\n",
      "15000/15000 [==============================] - 1s 98us/step - loss: 0.0306 - acc: 0.9957 - val_loss: 0.4419 - val_acc: 0.8708\n",
      "Epoch 32/40\n",
      "15000/15000 [==============================] - 1s 78us/step - loss: 0.0294 - acc: 0.9961 - val_loss: 0.4486 - val_acc: 0.8699\n",
      "Epoch 33/40\n",
      "15000/15000 [==============================] - 1s 74us/step - loss: 0.0285 - acc: 0.9963 - val_loss: 0.4527 - val_acc: 0.8701\n",
      "Epoch 34/40\n",
      "15000/15000 [==============================] - 1s 81us/step - loss: 0.0272 - acc: 0.9965 - val_loss: 0.4589 - val_acc: 0.8696\n",
      "Epoch 35/40\n",
      "15000/15000 [==============================] - 1s 72us/step - loss: 0.0262 - acc: 0.9969 - val_loss: 0.4643 - val_acc: 0.8690\n",
      "Epoch 36/40\n",
      "15000/15000 [==============================] - 1s 77us/step - loss: 0.0252 - acc: 0.9970 - val_loss: 0.4696 - val_acc: 0.8688\n",
      "Epoch 37/40\n",
      "15000/15000 [==============================] - 1s 74us/step - loss: 0.0242 - acc: 0.9975 - val_loss: 0.4749 - val_acc: 0.8683\n",
      "Epoch 38/40\n",
      "15000/15000 [==============================] - 1s 79us/step - loss: 0.0234 - acc: 0.9975 - val_loss: 0.4805 - val_acc: 0.8677\n",
      "Epoch 39/40\n",
      "15000/15000 [==============================] - 1s 75us/step - loss: 0.0224 - acc: 0.9979 - val_loss: 0.4866 - val_acc: 0.8676\n",
      "Epoch 40/40\n",
      "15000/15000 [==============================] - 1s 75us/step - loss: 0.0215 - acc: 0.9979 - val_loss: 0.4918 - val_acc: 0.8672\n"
     ]
    }
   ],
   "source": [
    "tbCallBack = keras.callbacks.TensorBoard(log_dir='./Graph', histogram_freq=0, write_graph=True, write_images=True)\n",
    "history = model.fit(partial_x_train,\n",
    "                   partial_y_train,\n",
    "                   epochs=40,\n",
    "                   batch_size=512,\n",
    "                   validation_data=(x_val, y_val),\n",
    "                   verbose=1,\n",
    "                   callbacks=[tbCallBack])"
   ]
  },
  {
   "cell_type": "code",
   "execution_count": 18,
   "metadata": {},
   "outputs": [
    {
     "name": "stdout",
     "output_type": "stream",
     "text": [
      "25000/25000 [==============================] - 1s 53us/step\n",
      "[0.3236539955568314, 0.8732]\n"
     ]
    }
   ],
   "source": [
    "results = model.evaluate(test_data, test_labels)\n",
    "\n",
    "print(results)"
   ]
  },
  {
   "cell_type": "code",
   "execution_count": 19,
   "metadata": {},
   "outputs": [
    {
     "data": {
      "text/plain": [
       "dict_keys(['val_loss', 'val_acc', 'loss', 'acc'])"
      ]
     },
     "execution_count": 19,
     "metadata": {},
     "output_type": "execute_result"
    }
   ],
   "source": [
    "history_dict = history.history\n",
    "history_dict.keys()"
   ]
  },
  {
   "cell_type": "code",
   "execution_count": 21,
   "metadata": {},
   "outputs": [
    {
     "data": {
      "text/plain": [
       "<Figure size 640x480 with 1 Axes>"
      ]
     },
     "metadata": {},
     "output_type": "display_data"
    },
    {
     "data": {
      "text/plain": [
       "<Figure size 640x480 with 1 Axes>"
      ]
     },
     "metadata": {},
     "output_type": "display_data"
    }
   ],
   "source": [
    "import matplotlib.pyplot as plt\n",
    "\n",
    "acc = history.history['acc']\n",
    "val_acc = history.history['val_acc']\n",
    "loss = history.history['loss']\n",
    "val_loss = history.history['val_loss']\n",
    "\n",
    "epochs = range(1, len(acc) + 1)\n",
    "\n",
    "# \"bo\" is for \"blue dot\"\n",
    "plt.plot(epochs, loss, 'bo', label='Training loss')\n",
    "# b is for \"solid blue line\"plt.clf()   # clear figure\n",
    "acc_values = history_dict['acc']\n",
    "val_acc_values = history_dict['val_acc']\n",
    "\n",
    "plt.plot(epochs, acc, 'bo', label='Training acc')\n",
    "plt.plot(epochs, val_acc, 'b', label='Validation acc')\n",
    "plt.title('Training and validation accuracy')\n",
    "plt.xlabel('Epochs')\n",
    "plt.ylabel('Accuracy')\n",
    "plt.legend()\n",
    "\n",
    "plt.show()\n",
    "plt.plot(epochs, val_loss, 'b', label='Validation loss')\n",
    "plt.title('Training and validation loss')\n",
    "plt.xlabel('Epochs')\n",
    "plt.ylabel('Loss')\n",
    "plt.legend()\n",
    "\n",
    "plt.show()"
   ]
  },
  {
   "cell_type": "code",
   "execution_count": 22,
   "metadata": {},
   "outputs": [
    {
     "data": {
      "image/png": "[encoded data removed]",
      "text/plain": [
       "<Figure size 432x288 with 1 Axes>"
      ]
     },
     "metadata": {
      "needs_background": "light"
     },
     "output_type": "display_data"
    }
   ],
   "source": [
    "plt.clf()   # clear figure\n",
    "acc_values = history_dict['acc']\n",
    "val_acc_values = history_dict['val_acc']\n",
    "\n",
    "plt.plot(epochs, acc, 'bo', label='Training acc')\n",
    "plt.plot(epochs, val_acc, 'b', label='Validation acc')\n",
    "plt.title('Training and validation accuracy')\n",
    "plt.xlabel('Epochs')\n",
    "plt.ylabel('Accuracy')\n",
    "plt.legend()\n",
    "\n",
    "plt.show()"
   ]
  }
 ],
 "metadata": {
  "kernelspec": {
   "display_name": "Python 3",
   "language": "python",
   "name": "python3"
  },
  "language_info": {
   "codemirror_mode": {
    "name": "ipython",
    "version": 3
   },
   "file_extension": ".py",
   "mimetype": "text/x-python",
   "name": "python",
   "nbconvert_exporter": "python",
   "pygments_lexer": "ipython3",
   "version": "3.6.8"
  }
 },
 "nbformat": 4,
 "nbformat_minor": 2
}
